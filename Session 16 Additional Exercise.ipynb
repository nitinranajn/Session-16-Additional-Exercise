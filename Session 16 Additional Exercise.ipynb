{
 "cells": [
  {
   "cell_type": "markdown",
   "metadata": {},
   "source": [
    "Problem Statement 1: [50 marks]\n",
    "Two-tailed test for difference between two population means\n",
    "Is there evidence to conclude that the number of people travelling from Bangalore to Chennai is different from the number of people travelling from Bangalore to Hosur in a week, given the following:\n",
    "Population 1: Bangalore to Chennai n1 = 1200\n",
    "x1 = 452\n",
    "s1 = 212\n",
    "Population 2: Bangalore to Hosur n2 = 800\n",
    "x2 = 523\n",
    "s2 = 185\n",
    "Solution\n",
    "======================\n",
    "<img src=\"Additional Exercise session16_Q1.jpg\">\n"
   ]
  },
  {
   "cell_type": "markdown",
   "metadata": {},
   "source": [
    "Problem Statement 2: [50 marks]\n",
    "Is there evidence to conclude that the number of people preferring Duracell battery is different from the number of people preferring Energizer battery, given the following:\n",
    "Population 1: Duracell\n",
    "n1 = 100\n",
    "x1 = 308\n",
    "s1 = 84\n",
    "Population 2: Energizer\n",
    "n2 = 100\n",
    "x2 = 254\n",
    "s2 = 67\n",
    "Solution\n",
    "======================\n",
    "<img src=\"Additional Exercise session16_Q2.jpg\">"
   ]
  },
  {
   "cell_type": "markdown",
   "metadata": {},
   "source": [
    "Problem Statement 3: [100 marks]\n",
    "Pooled estimate of the population variance\n",
    "Does the data provide sufficient evidence to conclude that average percentage increase in the price of sugar differs when it is sold at two different prices?\n",
    "Population 1: Price of sugar = Rs. 27.50 n1 = 14\n",
    "x1 = 0.317%\n",
    "s1 = 0.12%\n",
    "Population 2: Price of sugar = Rs. 20.00 n2 = 9\n",
    "x2 = 0.21%\n",
    "s2 = 0.11%\n",
    "Solution\n",
    "======================\n",
    "<img src=\"Additional Exercise session16_Q3.jpg\">"
   ]
  },
  {
   "cell_type": "markdown",
   "metadata": {},
   "source": [
    "Problem Statement 4: [100 marks]\n",
    "The manufacturers of compact disk players want to test whether a small price reduction is enough to increase sales of their product. Is there evidence that the small price reduction is enough to increase sales of compact disk players?\n",
    "Population 1: Before reduction\n",
    "n1 = 15\n",
    "x1 = Rs. 6598 s1 = Rs. 844\n",
    "Population 2: After reduction n2 = 12\n",
    "x2 = RS. 6870\n",
    "s2 = Rs. 669\n",
    "Solution\n",
    "======================\n",
    "<img src=\"Additional Exercise session16_Q4.jpg\">"
   ]
  },
  {
   "cell_type": "markdown",
   "metadata": {},
   "source": [
    "Problem Statement 5: [100 marks]\n",
    "Comparisons of two population proportions when the hypothesized difference is zero Carry out a two-tailed test of the equality of banks’ share of the car loan market in 1980 and 1995.\n",
    "Population 1: 1980\n",
    "n1 = 1000\n",
    "x1 = 53\n",
    "𝑝̂ 1 = 0.53\n",
    "Population 2: 1985\n",
    "n2 = 100\n",
    "x2 = 43\n",
    "𝑝̂ 2= 0.53\n",
    "Solution\n",
    "======================\n",
    "<img src=\"Additional Exercise session16_Q5.jpg\">"
   ]
  },
  {
   "cell_type": "markdown",
   "metadata": {},
   "source": [
    "Problem Statement 6: [100 marks]\n",
    "Carry out a one-tailed test to determine whether the population proportion of traveler’s check buyers who buy at least $2500 in checks when sweepstakes prizes are offered as at least 10% higher than the proportion of such buyers when no sweepstakes are on.\n",
    "Population 1: With sweepstakes\n",
    "n1 = 300\n",
    "x1 = 120\n",
    "𝑝̂ 1 = 0.40\n",
    "Population 2: No sweepstakes n2 = 700\n",
    "x2 = 140\n",
    "𝑝̂ 2= 0.20\n",
    "Solution\n",
    "======================\n",
    "<img src=\"Additional Exercise session16_Q6.jpg\">"
   ]
  },
  {
   "cell_type": "markdown",
   "metadata": {},
   "source": [
    "Problem Statement 7: [100 marks]\n",
    "A die is thrown 132 times with the following results: Number turned up: 1, 2, 3, 4, 5, 6\n",
    "Frequency: 16, 20, 25, 14, 29, 28\n",
    "Is the die unbiased? Consider the degrees of freedom as 𝑝̂ − 1.\n",
    "Solution\n",
    "======================\n",
    "<img src=\"Additional Exercise session16_Q7.jpg\">"
   ]
  },
  {
   "cell_type": "markdown",
   "metadata": {},
   "source": [
    "Problem Statement 8: [100 marks]\n",
    "In a certain town, there are about one million eligible voters. A simple random sample of 10,000 eligible voters was chosen to study the relationship between gender and participation in the last election. The results are summarized in the following 2X2 (read two by two) contingency table:\n",
    "Men\n",
    "Women\n",
    "Voted\n",
    "2792\n",
    "3591\n",
    "Not voted\n",
    "1486\n",
    "2131\n",
    "We would want to check whether being a man or a woman (columns) is independent of having\n",
    "voted in the last election (rows). In other words, is “gender and voting independent”?\n",
    "Solution\n",
    "======================\n",
    "<img src=\"Additional Exercise session16_Q8.jpg\">"
   ]
  },
  {
   "cell_type": "markdown",
   "metadata": {},
   "source": [
    "Problem Statement 9: [100 marks]\n",
    "A sample of 100 voters are asked which of four candidates they would vote for in an election. The number supporting each candidate is given below:\n",
    "Higgins Reardon White Charlton 41 19 24 16\n",
    "Do the data suggest that all candidates are equally popular? [Chi-Square = 14.96, with 3 df, 𝑝̂ < 0.05].\n",
    "Solution\n",
    "======================\n",
    "<img src=\"Additional Exercise session16_Q9.jpg\">"
   ]
  },
  {
   "cell_type": "markdown",
   "metadata": {},
   "source": [
    "Problem Statement 10: [100 marks]\n",
    "Children of three ages are asked to indicate their preference for three photographs of adults. Do the data suggest that there is a significant relationship between age and photograph preference? What is wrong with this study? [Chi-Square = 29.6, with 4 df: 𝑝̂ < 0.05].\n",
    "###\n",
    "Photograph\n",
    "A\n",
    "B\n",
    "C\n",
    "Age of child\n",
    "5 – 6 years\n",
    "18\n",
    "22\n",
    "20\n",
    "7 – 8 years\n",
    "2\n",
    "28\n",
    "40\n",
    "9 – 10 years\n",
    "20\n",
    "10\n",
    "40\n",
    "Solution\n",
    "======================\n",
    "<img src=\"Additional Exercise session16_Q10.jpg\">"
   ]
  },
  {
   "cell_type": "markdown",
   "metadata": {},
   "source": [
    "Problem Statement 11: [100 marks]\n",
    "A study of conformity using the Asch paradigm involved two conditions: one where one confederate supported the true judgement, and another where no confederate gave the correct response.\n",
    "Support\n",
    "No support\n",
    "Conform\n",
    "18\n",
    "40\n",
    "Not conform\n",
    "32\n",
    "10\n",
    "Is there a significant difference between the \"support\" and \"no support\" conditions in the frequency with which individuals are likely to conform? [Chi-Square = 19.87, with 1 df:\n",
    "𝑝̂ < 0.05].\n",
    "Solution\n",
    "======================\n",
    "<img src=\"Additional Exercise session16_Q11.jpg\">"
   ]
  },
  {
   "cell_type": "markdown",
   "metadata": {},
   "source": [
    "Problem Statement 12: [100 marks]\n",
    "We want to test whether short people differ with respect to their leadership qualities (Genghis Khan, Adolf Hitler and Napoleon were all stature-deprived, and how many midget MP's are there?) The following table shows the frequencies with which 43 short people and 52 tall people were categorized as \"leaders\", \"followers\" or as \"unclassifiable\". Is there a relationship between height and leadership qualities? [Chi-Square = 10.71, with 2 df: 𝑝̂ < 0.01].\n",
    "##\n",
    "Height\n",
    "Short\n",
    "Tall\n",
    "Leader\n",
    "12\n",
    "32\n",
    "Follower\n",
    "22\n",
    "14\n",
    "Unclassifiable\n",
    "9\n",
    "6\n",
    "Solution\n",
    "======================\n",
    "<img src=\"Additional Exercise session16_Q12.jpg\">"
   ]
  },
  {
   "cell_type": "markdown",
   "metadata": {},
   "source": [
    "Problem Statement 13: [100 marks]\n",
    "Each respondent in the Current Population Survey of March 1993 was classified as employed, unemployed, or outside the labor force. The results for men in California age 35-44 can be cross-tabulated by marital status, as follows:\n",
    "Married\n",
    "Widowed, divorced\n",
    "or separated\n",
    "Never married\n",
    "Employed\n",
    "679\n",
    "103\n",
    "114\n",
    "Unemployed\n",
    "63\n",
    "10\n",
    "20\n",
    "Not in labor force\n",
    "42\n",
    "18\n",
    "25\n",
    "Men of different marital status seem to have different distributions of labor force status. Or is this just chance variation? (you may assume the table results from a simple random sample.)\n",
    "Solution\n",
    "======================\n",
    "<img src=\"Additional Exercise session16_Q13.jpg\">"
   ]
  },
  {
   "cell_type": "code",
   "execution_count": null,
   "metadata": {},
   "outputs": [],
   "source": []
  }
 ],
 "metadata": {
  "kernelspec": {
   "display_name": "Python 3",
   "language": "python",
   "name": "python3"
  },
  "language_info": {
   "codemirror_mode": {
    "name": "ipython",
    "version": 3
   },
   "file_extension": ".py",
   "mimetype": "text/x-python",
   "name": "python",
   "nbconvert_exporter": "python",
   "pygments_lexer": "ipython3",
   "version": "3.7.0"
  }
 },
 "nbformat": 4,
 "nbformat_minor": 2
}
